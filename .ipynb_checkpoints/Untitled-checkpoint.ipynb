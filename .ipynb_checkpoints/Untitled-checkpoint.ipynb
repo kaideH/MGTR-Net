{
 "cells": [
  {
   "cell_type": "code",
   "execution_count": 6,
   "id": "40dc16b1-68e9-40d2-b4e8-68452bd0baef",
   "metadata": {
    "tags": []
   },
   "outputs": [
    {
     "name": "stdout",
     "output_type": "stream",
     "text": [
      "['video01', 'video02', 'video03', 'video04', 'video05', 'video06', 'video07', 'video08', 'video09', 'video10', 'video11', 'video12', 'video13', 'video14', 'video15', 'video16', 'video17', 'video18', 'video19', 'video20', 'video21', 'video22', 'video23', 'video24', 'video25', 'video26', 'video27', 'video28', 'video29', 'video30', 'video31', 'video32', 'video33', 'video34', 'video35', 'video36', 'video37', 'video38', 'video39', 'video40', 'video41', 'video42', 'video43', 'video44', 'video45', 'video46', 'video47', 'video48', 'video49', 'video50', 'video51', 'video52', 'video53', 'video54', 'video55', 'video56', 'video57', 'video58', 'video59', 'video60', 'video61', 'video62', 'video63', 'video64', 'video65', 'video66', 'video67', 'video68', 'video69', 'video70', 'video71', 'video72', 'video73', 'video74', 'video75', 'video76', 'video77', 'video78', 'video79', 'video80']\n"
     ]
    }
   ],
   "source": [
    "print([f\"video{idx:02d}\" for idx in range(1, 81)])"
   ]
  }
 ],
 "metadata": {
  "kernelspec": {
   "display_name": "Python 3 (ipykernel)",
   "language": "python",
   "name": "python3"
  },
  "language_info": {
   "codemirror_mode": {
    "name": "ipython",
    "version": 3
   },
   "file_extension": ".py",
   "mimetype": "text/x-python",
   "name": "python",
   "nbconvert_exporter": "python",
   "pygments_lexer": "ipython3",
   "version": "3.7.13"
  }
 },
 "nbformat": 4,
 "nbformat_minor": 5
}
